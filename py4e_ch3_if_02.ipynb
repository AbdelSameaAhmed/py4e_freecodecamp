{
 "cells": [
  {
   "cell_type": "markdown",
   "id": "3974224e-2b52-46e0-8a46-4c1e3a3bf80f",
   "metadata": {},
   "source": [
    "# If statement and nested if\n",
    "Exercise 1: \n",
    "\n",
    "Rewrite your pay computation to give the employee 1.5\n",
    "times the hourly rate for hours worked above 40 hours.\n",
    "\n",
    "Enter Hours: 45<br>\n",
    "Enter Rate: 10<br>\n",
    "Pay: 475.0<br>"
   ]
  },
  {
   "cell_type": "code",
   "execution_count": 1,
   "id": "de1b5f52-d6f6-469c-a388-42bc0db328c5",
   "metadata": {
    "collapsed": true,
    "jupyter": {
     "outputs_hidden": true
    },
    "tags": []
   },
   "outputs": [
    {
     "name": "stdin",
     "output_type": "stream",
     "text": [
      "Please enter your working hours:  3\n"
     ]
    },
    {
     "name": "stdout",
     "output_type": "stream",
     "text": [
      "invalid input\n"
     ]
    }
   ],
   "source": [
    "working_hours =input(\"Please enter your working hours: \")\n",
    "rate = 10 \n",
    "try:\n",
    "    while int(working_hours):\n",
    "        if working_hours > 40:\n",
    "            rate = 10.555\n",
    "            pay = rate * working_hours\n",
    "            print(round(pay,0))\n",
    "        elif working_hours <=40:\n",
    "            rate = rate\n",
    "            pay = rat * working_hours\n",
    "            print(round(pay,0))\n",
    "    else:\n",
    "        print(\"try again\")\n",
    "        working_hours =int(input(\"Please enter your working hours: \"))\n",
    "except:\n",
    "    print(\"invalid input\")\n",
    "    "
   ]
  },
  {
   "cell_type": "code",
   "execution_count": null,
   "id": "f8888f15-e935-42b0-ad51-8f0c23c0ab85",
   "metadata": {},
   "outputs": [],
   "source": [
    "# check the input is string or number"
   ]
  },
  {
   "cell_type": "code",
   "execution_count": null,
   "id": "d0b2dc47-6c38-4da5-91fd-3a9193770dd5",
   "metadata": {},
   "outputs": [],
   "source": [
    "working_hours = input(\"enter working hours: \")\n",
    "           \n",
    "regular_rate = int(10)\n",
    "overtime_rate = int(regular_rate * 1.5)  \n",
    "working_hours =  int(working_hours)\n",
    "if working_hours :\n",
    "    if working_hours > 40:\n",
    "        pay = (40 * regular_rate) + (overtime_rate*(working_hours - 40))\n",
    "        print(pay)\n",
    "\n",
    "    elif working_hours <= 40:\n",
    "        pay = working_hours * regular_rate\n",
    "        print(pay)\n",
    "    else:\n",
    "        print(\"it is valid input\")\n",
    "else:\n",
    "    print(\"PLEASE TRY AGAIN\")\n"
   ]
  },
  {
   "cell_type": "markdown",
   "id": "2281b31c-0cca-462d-a101-67e2c2423fcd",
   "metadata": {
    "tags": []
   },
   "source": [
    "# check if input is number or not"
   ]
  },
  {
   "cell_type": "code",
   "execution_count": 12,
   "id": "bc1710a3-3472-4e55-a2d3-778fd70210bf",
   "metadata": {
    "collapsed": true,
    "jupyter": {
     "outputs_hidden": true
    },
    "tags": []
   },
   "outputs": [
    {
     "name": "stdin",
     "output_type": "stream",
     "text": [
      "enter working hours:  rtlsmfld\n"
     ]
    },
    {
     "name": "stdout",
     "output_type": "stream",
     "text": [
      "your inout is not number\n"
     ]
    }
   ],
   "source": [
    "# check if the input is number or not\n",
    "working_hours = input(\"enter working hours: \")\n",
    "\n",
    "if working_hours.strip().isdigit():\n",
    "    print(\"your input is number\")\n",
    "else:\n",
    "    print(\"your inout is not number\")"
   ]
  },
  {
   "cell_type": "code",
   "execution_count": 10,
   "id": "958be104-67ff-4c7e-a588-f858e40cc3bf",
   "metadata": {
    "collapsed": true,
    "jupyter": {
     "outputs_hidden": true
    },
    "tags": []
   },
   "outputs": [
    {
     "name": "stdin",
     "output_type": "stream",
     "text": [
      "enter working hours:  rrrrrrrrrr\n"
     ]
    },
    {
     "name": "stdout",
     "output_type": "stream",
     "text": [
      "your inout is not number\n"
     ]
    }
   ],
   "source": [
    "# another solution\n",
    "working_hours = input(\"enter working hours: \")\n",
    "\n",
    "if working_hours.isnumeric():\n",
    "    print(\"your input is number\")\n",
    "else:\n",
    "    print(\"your inout is not number\")"
   ]
  },
  {
   "cell_type": "code",
   "execution_count": 8,
   "id": "66e5a976-7041-49ce-ba3a-4240a6c29c1a",
   "metadata": {},
   "outputs": [
    {
     "name": "stdin",
     "output_type": "stream",
     "text": [
      "enter working hours:  weeeeeeeeee\n"
     ]
    },
    {
     "name": "stdout",
     "output_type": "stream",
     "text": [
      "Not a number\n"
     ]
    }
   ],
   "source": [
    "# another solution\n",
    "user_input = input(\"enter working hours: \")\n",
    "if type(user_input) == int:\n",
    "    print(\"Is a number\")\n",
    "else:\n",
    "    print(\"Not a number\")\n"
   ]
  },
  {
   "cell_type": "code",
   "execution_count": null,
   "id": "3b28c9fe-4bc0-4138-84b2-7272eb088705",
   "metadata": {},
   "outputs": [],
   "source": []
  }
 ],
 "metadata": {
  "kernelspec": {
   "display_name": "Python 3 (ipykernel)",
   "language": "python",
   "name": "python3"
  },
  "language_info": {
   "codemirror_mode": {
    "name": "ipython",
    "version": 3
   },
   "file_extension": ".py",
   "mimetype": "text/x-python",
   "name": "python",
   "nbconvert_exporter": "python",
   "pygments_lexer": "ipython3",
   "version": "3.9.6"
  }
 },
 "nbformat": 4,
 "nbformat_minor": 5
}
