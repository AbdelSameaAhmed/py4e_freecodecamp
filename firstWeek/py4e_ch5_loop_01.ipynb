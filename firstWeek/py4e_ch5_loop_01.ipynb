{
 "cells": [
  {
   "cell_type": "code",
   "execution_count": null,
   "id": "338d002f-7a9f-44d1-8898-1bc44eab34d7",
   "metadata": {},
   "outputs": [],
   "source": [
    "x = x + 1 # This means “get the current value of x, add 1, and then update x with the new value.”\n",
    "# Python evaluates the right side before it assigns a value to x:"
   ]
  },
  {
   "cell_type": "code",
   "execution_count": null,
   "id": "af0952ca-458b-4ef6-9cf4-1db2f3000f4c",
   "metadata": {},
   "outputs": [],
   "source": [
    "x = 2\n",
    "x = x + 1 \n",
    "print(x)"
   ]
  },
  {
   "cell_type": "markdown",
   "id": "cafd06c6-dbde-4c6f-85bb-0c3215902c2b",
   "metadata": {},
   "source": [
    "## While statement"
   ]
  },
  {
   "cell_type": "markdown",
   "id": "5989ea3c-ee5d-4b9d-b30d-eea8c191974a",
   "metadata": {},
   "source": [
    "Example:\n",
    "a simple program that counts down from five and then says “Blastoff!”.\n"
   ]
  },
  {
   "cell_type": "code",
   "execution_count": null,
   "id": "fa9fb93f-4ef3-4b0d-a6df-540ba457a7f1",
   "metadata": {},
   "outputs": [],
   "source": [
    "# using for loop\n",
    "x = 5\n",
    "for i in range(5):\n",
    "    print(i)\n",
    "    i += 1\n",
    "print(\"Blastoff\")"
   ]
  },
  {
   "cell_type": "code",
   "execution_count": null,
   "id": "f53cd249-dbe8-4fb8-aa29-659c73015a79",
   "metadata": {},
   "outputs": [],
   "source": [
    "# using while loop\n",
    "x = 0\n",
    "while x < 5 :\n",
    "    print(x)\n",
    "    x += 1\n",
    "print(\"Blastoff\")"
   ]
  },
  {
   "cell_type": "code",
   "execution_count": null,
   "id": "78017236-f238-41a4-8679-087f2466d9bb",
   "metadata": {},
   "outputs": [],
   "source": [
    "x = 5\n",
    "while x > 0:\n",
    "    print(x)\n",
    "    x -= 1\n",
    "print(\"Blastoff\")\n",
    "# You can almost read the while statement as if it were English. It means, “While\n",
    "# x is greater than 0, display the value of x and then reduce the value of x by 1.\n",
    "# When you get to 0, exit the while statement and display the word Blastoff!”"
   ]
  },
  {
   "cell_type": "markdown",
   "id": "12fdf6e2-b255-478e-8ef2-e2cb2c99c8ae",
   "metadata": {},
   "source": [
    "### infinit loop\n",
    "#### break & continue"
   ]
  },
  {
   "cell_type": "code",
   "execution_count": null,
   "id": "ba034a73-1ef2-42f0-8ce4-2311bc988e69",
   "metadata": {},
   "outputs": [],
   "source": [
    "# example\n",
    "x = 5\n",
    "while True:\n",
    "    print(x, end=' ')\n",
    "    x -= 1\n",
    "    \n",
    "print(\"Done\")"
   ]
  },
  {
   "cell_type": "code",
   "execution_count": null,
   "id": "86089f32-b469-4f86-957a-c71d28c1d200",
   "metadata": {},
   "outputs": [],
   "source": [
    "while True:\n",
    "    line = input('> ')\n",
    "    if line == \"done\":\n",
    "        break # program stoped whin user input is 'done'\n",
    "    print(line)\n",
    "print(\"Done\")"
   ]
  },
  {
   "cell_type": "markdown",
   "id": "d5e663ad-dadc-47df-a23f-bd11558f8acd",
   "metadata": {},
   "source": [
    "Example of a loop that copies its input until the user types “done”, but\n",
    "treats lines that start with the hash character as lines not to be printed"
   ]
  },
  {
   "cell_type": "code",
   "execution_count": 8,
   "id": "22ed03c6-c2e2-43ed-8abc-798c00209c8f",
   "metadata": {},
   "outputs": [
    {
     "name": "stdin",
     "output_type": "stream",
     "text": [
      ">  hello there\n"
     ]
    },
    {
     "name": "stdout",
     "output_type": "stream",
     "text": [
      "hello there\n"
     ]
    },
    {
     "name": "stdin",
     "output_type": "stream",
     "text": [
      ">  # no you are not!\n",
      ">  yes\n"
     ]
    },
    {
     "name": "stdout",
     "output_type": "stream",
     "text": [
      "yes\n"
     ]
    },
    {
     "name": "stdin",
     "output_type": "stream",
     "text": [
      ">  done\n"
     ]
    },
    {
     "name": "stdout",
     "output_type": "stream",
     "text": [
      "Done\n"
     ]
    }
   ],
   "source": [
    "while True:\n",
    "    line = input('> ')\n",
    "    if line.startswith(\"#\"):\n",
    "        continue\n",
    "    if line == 'done':\n",
    "        break\n",
    "    print(line)\n",
    "print(\"Done\")       "
   ]
  },
  {
   "cell_type": "markdown",
   "id": "98d5b3bc-7783-4f5e-a6c1-15925c70621d",
   "metadata": {},
   "source": [
    "Example\n",
    "progrom for printing the largest number"
   ]
  },
  {
   "cell_type": "code",
   "execution_count": 11,
   "id": "10c0cf71-bf38-4bc9-a84c-d9877c96f5b8",
   "metadata": {},
   "outputs": [
    {
     "name": "stdin",
     "output_type": "stream",
     "text": [
      "please enters numbers:  300 1001 222 100000\n"
     ]
    },
    {
     "name": "stdout",
     "output_type": "stream",
     "text": [
      "3\n"
     ]
    }
   ],
   "source": [
    "numbers = input(\"please enters numbers: \")\n",
    "numbers = list(numbers)\n",
    "print(max(numbers))"
   ]
  },
  {
   "cell_type": "code",
   "execution_count": null,
   "id": "d7cbc6c1-cf3d-4583-8e9d-2fd76218eb8c",
   "metadata": {},
   "outputs": [],
   "source": []
  }
 ],
 "metadata": {
  "kernelspec": {
   "display_name": "Python 3 (ipykernel)",
   "language": "python",
   "name": "python3"
  },
  "language_info": {
   "codemirror_mode": {
    "name": "ipython",
    "version": 3
   },
   "file_extension": ".py",
   "mimetype": "text/x-python",
   "name": "python",
   "nbconvert_exporter": "python",
   "pygments_lexer": "ipython3",
   "version": "3.9.6"
  }
 },
 "nbformat": 4,
 "nbformat_minor": 5
}
