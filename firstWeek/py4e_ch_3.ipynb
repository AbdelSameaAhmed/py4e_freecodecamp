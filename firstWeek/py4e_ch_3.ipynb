{
 "cells": [
  {
   "cell_type": "markdown",
   "metadata": {
    "tags": []
   },
   "source": [
    "# Py4e \n",
    "## An intro for python and python environment\n",
    "<b>This file covers:<b>\n",
    "<ul>\n",
    "<li>Chapter 3\n",
    "<li>Chapter 4\n",
    "</ul>\n",
    "<br>\n",
    "\n",
    "***\n",
    "## Conditional Execution\n",
    "<ol>\n",
    "<li>Boolean expression</li>\n",
    "    <span>boolean expression is an expression that is either true or false<br>\n",
    "    use \"==\" double equal operator like 8 == 8 <br>\n",
    "    </span>\n",
    "<li>Logical operators</li>\n",
    "<span>\n",
    "    x != y      ======>>        x is not equal to y <br>\n",
    "    x > y       ======>>        x is greater than y<br>\n",
    "    x < y       ======>>        x is less than y<br>\n",
    "    x >= y      ======>>        x is greater than or equal to y<br>\n",
    "    x <= y      ======>>        x is less than or equal to y<br>\n",
    "    x is y      ======>>        x is the same as y<br>\n",
    "    x is not y  ======>>        x is not the same as y<br>\n",
    "    </span>\n",
    "\n",
    "<li>Conditional Execution <em>'If and If else statement'<em></li>\n",
    "if number > 0:\n",
    "    print('number is positive ')\n",
    "\n",
    "</ol>"
   ]
  },
  {
   "cell_type": "code",
   "execution_count": 27,
   "metadata": {},
   "outputs": [
    {
     "name": "stdin",
     "output_type": "stream",
     "text": [
      "Please enter an integer number:  d\n"
     ]
    },
    {
     "name": "stdout",
     "output_type": "stream",
     "text": [
      "Invalid input\n"
     ]
    }
   ],
   "source": [
    "# a program to recieve integer number from user and print odd or even.\n",
    "num = input(\"Please enter an integer number: \")\n",
    "try:\n",
    "    num = int(num)\n",
    "    while num != 0 :\n",
    "        if num % 2 == 0:\n",
    "            print(\"Even\")\n",
    "        else:\n",
    "            print(\"Odd\")\n",
    "        num = int(input(\"Please enter an integer number: \"))\n",
    "    print(\"Done\")\n",
    "except ValueError:\n",
    "    print(\"Invalid input\")"
   ]
  },
  {
   "cell_type": "markdown",
   "metadata": {},
   "source": [
    "# Multi-Way nested if\n",
    "\n",
    "*exercise:*\n",
    "write a program recive number from user and chek :\n",
    "if equal to zero print equal to zero\n",
    "if number greater than 0 raise \"positive number\"<br>\n",
    "if less than 0 raise negative number <br>\n",
    "then chek if this number odd or even <br>"
   ]
  },
  {
   "cell_type": "code",
   "execution_count": 28,
   "metadata": {
    "tags": []
   },
   "outputs": [
    {
     "name": "stdin",
     "output_type": "stream",
     "text": [
      "Please enter number:  d\n"
     ]
    },
    {
     "name": "stdout",
     "output_type": "stream",
     "text": [
      "Please enter a valid Value\n"
     ]
    }
   ],
   "source": [
    "# recive number from user using input function\n",
    "\n",
    "num = input(\"Please enter number: \")\n",
    "\n",
    "# check if the number is valid or not using Try\n",
    "try:\n",
    "    num = int(num)\n",
    "    \n",
    "    if num == 0:\n",
    "        print(f\"The {num} is Zero\")\n",
    "\n",
    "    elif num > 0:\n",
    "        print(f\"The {num} is positive number\")\n",
    "\n",
    "    else:\n",
    "        print(f\"The {num} is negative number\")\n",
    "\n",
    "\n",
    "    if num % 2 == 0:\n",
    "        print(\"EVEN number\")   \n",
    "    else:\n",
    "        print(\"ODD number\")\n",
    "\n",
    "    # num = input(\"Please enter number: \")\n",
    "except ValueError:\n",
    "    print(\"Please enter a valid Value\")\n",
    "    # num = input(\"Please enter number: \")\n",
    "    "
   ]
  },
  {
   "cell_type": "code",
   "execution_count": null,
   "metadata": {},
   "outputs": [],
   "source": []
  }
 ],
 "metadata": {
  "interpreter": {
   "hash": "c82e7575f45f410b318c161d594c7bf0b9194a7d12f7b973fad112f7a3ca72b3"
  },
  "kernelspec": {
   "display_name": "Python 3 (ipykernel)",
   "language": "python",
   "name": "python3"
  },
  "language_info": {
   "codemirror_mode": {
    "name": "ipython",
    "version": 3
   },
   "file_extension": ".py",
   "mimetype": "text/x-python",
   "name": "python",
   "nbconvert_exporter": "python",
   "pygments_lexer": "ipython3",
   "version": "3.9.6"
  }
 },
 "nbformat": 4,
 "nbformat_minor": 4
}
