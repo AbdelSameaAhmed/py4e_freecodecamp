{
 "cells": [
  {
   "cell_type": "markdown",
   "id": "a537808f-4d3e-4ec5-be06-fc468103c68c",
   "metadata": {},
   "source": [
    "# Py4e \n",
    "## An intro for python and python environment\n",
    "<b>This file covers:<b>\n",
    "<ul>\n",
    "<li>Chapter 1\n",
    "<li>Chapter 2\n",
    "</ul>\n",
    "<br>\n",
    "***\n",
    "\n",
    "### Virtual Environment \n",
    "\n",
    "<strong>Steps for create Virtual environment</strong>\n",
    "<br>\n",
    "### prepare the virtual environment\n",
    "<ul>\n",
    "<li>install virtualenv if not installed</li>\n",
    "**from cmd write:**<br>\n",
    "py -m pip install virtualenv<br>\n",
    "\n",
    "<li> update the virtuaenvironment</li>\n",
    "**from cmd write:**<br>\n",
    "py -m pip install virualenv --upgrade<br>\n",
    "</ul>\n",
    "\n",
    "***\n",
    "\n",
    "### create directory for envroment called Env_dir<br>\n",
    "<ul>\n",
    "<li>from cmd write:</li>\n",
    "mkdir Env_dir <br>\n",
    "then got to Env_dir<br>\n",
    "<li>from cmd write:</li>\n",
    "cd Env_dir \n",
    "<li>create environment called my_env</li>\n",
    "using command  {virtualenv *\"environment name\"*}<br>\n",
    "<li>from cmd write:</li>\n",
    "virtualenv my_env\n",
    "\n",
    "Now we created the environment called my_env<br>\n",
    "</ul>\n",
    "\n",
    "***\n",
    "### Activate the environment<br>\n",
    "to activate the environment we use the command *Script\\activate* 'Script' upercase 'S'<br>\n",
    "<ul>\n",
    "<li>from cmd write:</li>\n",
    "Script\\activate<br>\n",
    "*Finaly the environment is created and activated successfully*<br>\n",
    "</ul>\n",
    "\n",
    "### Deactivate the environment<br>\n",
    "\n",
    "if you want to deactivate the environment<br>\n",
    "\n",
    "<ul>\n",
    "<li>from cmd write:</li>\n",
    "deactivate<br>\n",
    "</ul>\n",
    "\n",
    "***"
   ]
  },
  {
   "cell_type": "markdown",
   "id": "3c006d74-9ebe-4ea5-902b-be45b8611644",
   "metadata": {},
   "source": [
    "## Variables <br>\n",
    "** Varaible is a name that rever to value **\n",
    "ex; <br>\n",
    "x = 5 <br>\n",
    "\n",
    "x is a variable refere to value 5"
   ]
  },
  {
   "cell_type": "markdown",
   "id": "c90da9c2-6a09-4320-bd23-b08f21a9bd1b",
   "metadata": {},
   "source": [
    "## Expersions\n",
    "\n",
    "consits of operators and operands <br>\n",
    "x = 1 + 2<br>\n",
    "varaible wqual value of ONE plus(operator) value of 2<br>\n",
    "the priority of arithmatic operator are \n",
    "1.  Parenthes\n",
    "2. Multiplication and Division have the same precedence\n",
    "3. Addition and Subtraction have the same precedence\n"
   ]
  },
  {
   "cell_type": "markdown",
   "id": "2937f621-1af6-4ba2-8692-59604d944232",
   "metadata": {},
   "source": [
    "### modulus % <br>\n",
    "\n",
    "7 % 3 = 1<br>\n",
    "\n",
    "### 7 divided by 3 is 2 with 1 left over.\n"
   ]
  },
  {
   "cell_type": "code",
   "execution_count": 2,
   "id": "166bfc00-138c-4110-a916-192b91027510",
   "metadata": {},
   "outputs": [
    {
     "data": {
      "text/plain": [
       "1"
      ]
     },
     "execution_count": 2,
     "metadata": {},
     "output_type": "execute_result"
    }
   ],
   "source": [
    "7 % 3\n"
   ]
  },
  {
   "cell_type": "code",
   "execution_count": 3,
   "id": "a2f49ecb-ccee-4a00-a05a-70641bc28b9e",
   "metadata": {},
   "outputs": [
    {
     "data": {
      "text/plain": [
       "2"
      ]
     },
     "execution_count": 3,
     "metadata": {},
     "output_type": "execute_result"
    }
   ],
   "source": [
    "7 // 3\n"
   ]
  },
  {
   "cell_type": "markdown",
   "id": "975b6127-a6e0-4623-92ed-b21b4bf7427a",
   "metadata": {},
   "source": [
    "Exercise 2:<br>\n",
    "Write a program that uses input to prompt a user for their\n",
    "name and then welcomes them.\n"
   ]
  },
  {
   "cell_type": "code",
   "execution_count": 11,
   "id": "2a8e6413-0021-4cb0-a714-6fcbffb7d7e4",
   "metadata": {},
   "outputs": [
    {
     "name": "stdout",
     "output_type": "stream",
     "text": [
      "Please enter your name asa\n"
     ]
    },
    {
     "name": "stdout",
     "output_type": "stream",
     "text": [
      "Hello ASA\n"
     ]
    }
   ],
   "source": [
    "name = input(\"Please enter your name: \")\n",
    "# name = name.upper()\n",
    "\n",
    "# print(\"Hello \" , name)\n",
    "print(f\"Hello {name.upper()}\") # in one line of code"
   ]
  },
  {
   "cell_type": "markdown",
   "id": "bb2629a9-d7b2-4f37-8156-daf1e14f4551",
   "metadata": {},
   "source": [
    "Exercise 3: <br>\n",
    "Write a program to prompt the user for hours and rate per\n",
    "hour to compute gross pay.<br>\n",
    "Enter Hours: 35<br>\n",
    "Enter Rate: 2.75<br>\n",
    "Pay: 96.25<br>\n",
    "\n"
   ]
  },
  {
   "cell_type": "code",
   "execution_count": 17,
   "id": "6b0c5641-e8ea-4213-8ed9-67205fb47d21",
   "metadata": {},
   "outputs": [
    {
     "name": "stdout",
     "output_type": "stream",
     "text": [
      "please enter your hours of work:  35\n",
      "Please enter the rate:  2.75\n"
     ]
    },
    {
     "name": "stdout",
     "output_type": "stream",
     "text": [
      "The pay is 96.25 \n"
     ]
    }
   ],
   "source": [
    "number_of_hrs = int(input(\"please enter your hours of work: \"))\n",
    "rate = float(input(\"Please enter the rate: \"))\n",
    "\n",
    "print(f\"The pay is {(number_of_hrs * rate)}\")"
   ]
  },
  {
   "cell_type": "markdown",
   "id": "e18a7608-a796-4fad-a7ce-b3c2d314388d",
   "metadata": {},
   "source": [
    "Exercise 4: <br>\n",
    "Assume that we execute the following assignment statements:<br>\n",
    "width = 17<br>\n",
    "height = 12.0<br>\n",
    "For each of the following expressions,<br>\n",
    "write the value of the expression and the type (of the value of the expression)<br>\n",
    "1. width//2<br>\n",
    "2. width/2.0<br>\n",
    "3. height/3<br>\n",
    "4. 1 + 2 * 5<br>"
   ]
  },
  {
   "cell_type": "code",
   "execution_count": 2,
   "id": "c03e6808-d4e4-4d72-8fee-08f808e587a2",
   "metadata": {},
   "outputs": [
    {
     "name": "stdout",
     "output_type": "stream",
     "text": [
      "8\n",
      "8.5\n",
      "4.0\n",
      "11\n"
     ]
    }
   ],
   "source": [
    "width = 17\n",
    "height = 12.0\n",
    "\n",
    "#  width//2 < br >\n",
    "print(width // 2)\n",
    "#  width/2.0 < br >\n",
    "print(width / 2.0)\n",
    "#  height/3 < br >\n",
    "print(height / 3)\n",
    "# 1 + 2 * 5 < br >\n",
    "print(1 + 2 * 5)\n"
   ]
  },
  {
   "cell_type": "markdown",
   "id": "45f90d60-42d8-4668-bc20-69375722ca2d",
   "metadata": {},
   "source": [
    "Exercise 5: <br>\n",
    "Write a program which prompts the user for a Celsius temperature, convert the temperature to Fahrenheit, and print out the\n",
    "converted temperature."
   ]
  },
  {
   "cell_type": "code",
   "execution_count": 4,
   "id": "5a7969d2-03cd-414e-ba7e-76832059b7c5",
   "metadata": {},
   "outputs": [
    {
     "name": "stdout",
     "output_type": "stream",
     "text": [
      "The temperature in fahrenheit is 84.2\n"
     ]
    }
   ],
   "source": [
    "temp_celsius = float(input(\"Please enter the temperature: \"))\n",
    "temp_fahrenheit = (temp_celsius * 9/5) + 32\n",
    "print(f\"The temperature in fahrenheit is {temp_fahrenheit}\")\n",
    "\n"
   ]
  },
  {
   "cell_type": "markdown",
   "id": "66c95d3d",
   "metadata": {},
   "source": [
    "Exercise 6: < br >\n",
    "Write a program which prompts the user for a Fahrenheit temperature, convert the temperature to Celsius, \n",
    "and print out the\n",
    "converted temperature.\n"
   ]
  },
  {
   "cell_type": "code",
   "execution_count": 6,
   "id": "ba9c9a4b",
   "metadata": {},
   "outputs": [
    {
     "name": "stdout",
     "output_type": "stream",
     "text": [
      "The temperature in celsius is 30\n"
     ]
    }
   ],
   "source": [
    "temp_fahrenheit = float(input(\"Please enter the temperature: \"))\n",
    "\n",
    "temp_celsius = (temp_fahrenheit - 32) * 5/9\n",
    "print(f\"The temperature in celsius is {int(temp_celsius)}\")"
   ]
  }
 ],
 "metadata": {
  "kernelspec": {
   "display_name": "Python 3 (ipykernel)",
   "language": "python",
   "name": "python3"
  },
  "language_info": {
   "codemirror_mode": {
    "name": "ipython",
    "version": 3
   },
   "file_extension": ".py",
   "mimetype": "text/x-python",
   "name": "python",
   "nbconvert_exporter": "python",
   "pygments_lexer": "ipython3",
   "version": "3.9.6"
  }
 },
 "nbformat": 4,
 "nbformat_minor": 5
}
