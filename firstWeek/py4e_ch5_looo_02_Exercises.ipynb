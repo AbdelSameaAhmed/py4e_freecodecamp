{
 "cells": [
  {
   "cell_type": "markdown",
   "metadata": {},
   "source": [
    "## 1st Exercise for While loop, if statement and function\n",
    "***\n",
    "* Ex1 :Write a while loop that adds all the numbers up to 100 (inclusive).\n",
    "***\n",
    "* Ex2 :Using while loop, if statement and str() function; iterate through the list and if there is a 100, print it with its index number. i.e.: \"There is a 100 at index no: 5\"\n",
    "mylist = [10, 100, 98, 85, 45, 59, 65, 100, 76, 12, 35, 13, 100, 80, 95]\n",
    "\n",
    "***\n",
    "* Ex3 :Using while loop and an if statement write a function named name_adder which appends all the elements in a list to a new list unless the element is an empty string: \"\".\n",
    "lst1=[\"Joe\", \"Sarah\", \"Mike\", \"Jess\", \"\", \"Matt\", \"\", \"Greg\"]\n",
    "***\n"
   ]
  },
  {
   "cell_type": "code",
   "execution_count": null,
   "metadata": {},
   "outputs": [],
   "source": [
    "# Ex1: Write a while loop that adds all the numbers up to 100 (inclusive).\n",
    "# solution:\n",
    "\n",
    "# print(my_num)\n",
    "num = 0\n",
    "total = 0\n",
    "while num <= 100:\n",
    "    total += num\n",
    "    num += 1\n",
    "print(f\"the count of added numbers is: {num}\")\n",
    "print(f\"the add of numbers is: {total}\")\n",
    "print(\"Done\")"
   ]
  },
  {
   "cell_type": "code",
   "execution_count": 45,
   "metadata": {},
   "outputs": [
    {
     "name": "stdout",
     "output_type": "stream",
     "text": [
      "the length of the list is: 15\n",
      "There is a 100 at index no: 1\n",
      "There is a 100 at index no: 7\n",
      "There is a 100 at index no: 12\n",
      "Done\n"
     ]
    }
   ],
   "source": [
    "# Ex2: Using while loop, if statement and str() function iterate through the list and if there is a 100, print it with its index number. i.e.: \"There is a 100 at index no: 5\"\n",
    "mylist = [10, 100, 98, 85, 45, 59, 65, 100, 76, 12, 35, 13, 100, 80, 95]\n",
    "# solution:\n",
    "x =  len(mylist)\n",
    "print(f\"the length of the list is: {x}\")\n",
    "i = 0\n",
    "while i < x:\n",
    "    if mylist[i] == 100:\n",
    "        print(f\"There is a 100 at index no: {i}\")\n",
    "    i += 1\n",
    "print(\"Done\")"
   ]
  },
  {
   "cell_type": "code",
   "execution_count": 75,
   "metadata": {},
   "outputs": [
    {
     "name": "stdout",
     "output_type": "stream",
     "text": [
      "['Joe', 'Sarah', 'Mike', 'Jess', 'Matt', 'Greg', 'ASA', 'Ahmed', 'Salma']\n"
     ]
    }
   ],
   "source": [
    "\n",
    "\n",
    "# Ex3: Using while loop and an if statement write a function \n",
    "# named name_adder which appends all the elements in a list\n",
    "# to a new list unless the element is an empty string: \"\".\n",
    "lst1 = [\"Joe\", \"Sarah\", \"Mike\", \"Jess\", \"\", \"Matt\", \"\", \"Greg\", \"ASA\", \"Ahmed\", \"\", \"Salma\"]\n",
    "# solution:\n",
    "\n",
    "def name_adder(lst1):\n",
    "    newlist =[]\n",
    "    i = 0\n",
    "    while i < len(lst1):\n",
    "        if lst1[i] != \"\":\n",
    "            newlist.append(lst1[i])\n",
    "        i += 1\n",
    "        \n",
    "    return newlist\n",
    "\n",
    "# call th function\n",
    "print(name_adder(lst1))\n"
   ]
  },
  {
   "cell_type": "code",
   "execution_count": 80,
   "metadata": {},
   "outputs": [
    {
     "name": "stdout",
     "output_type": "stream",
     "text": [
      "Mr.Hathaway@amymail.com\n"
     ]
    }
   ],
   "source": [
    "# ex4: \n",
    "addresses = (\"Mr.Hathaway\", \"amymail.com\")\n",
    "#Type your code here.\n",
    "email = \"@\".join(addresses)\n",
    "\n",
    "\n",
    "print(email)\n",
    "\n",
    "\n"
   ]
  },
  {
   "cell_type": "markdown",
   "metadata": {},
   "source": [
    "## 2nd Exercise for While loop, if statement and function\n",
    "***\n",
    "* Ex4\n",
    "Join each element in the list with a space character: \" \"\n",
    "lst = ['Everything', 'has', 'beauty,', 'but', 'not', 'everyone', 'can', 'see.']\n",
    "\n",
    "***\n",
    "* Ex5\n",
    "Write an if statement that asks for the user's name via input() function.\n",
    " If the name is \"Bond\" make it print \"Welcome on board 007.\"\n",
    " Otherwise make it print \"Good morning NAME\". (Replace Name with user's name)\n",
    "***\n",
    " * Ex 6\n",
    " Write a function named \"evens\" which returns True if a number is even and otherwise returns False.\n",
    "***"
   ]
  },
  {
   "cell_type": "code",
   "execution_count": 93,
   "metadata": {},
   "outputs": [
    {
     "name": "stdout",
     "output_type": "stream",
     "text": [
      "Everything has beauty, but not everyone can see.\n"
     ]
    }
   ],
   "source": [
    "# Ex4\n",
    "# Join each element in the list with a space character: \" \"\n",
    "lst = ['Everything', 'has', 'beauty,', 'but', 'not', 'everyone', 'can', 'see.']\n",
    "# solution\n",
    "\n",
    "str = \" \".join(lst)\n",
    "\n",
    "print(str)\n"
   ]
  },
  {
   "cell_type": "code",
   "execution_count": 88,
   "metadata": {},
   "outputs": [
    {
     "name": "stdout",
     "output_type": "stream",
     "text": [
      "Welcome on board 007.\n"
     ]
    }
   ],
   "source": [
    "# Ex5\n",
    "# Write an if statement that asks for the user's name via input() function.\n",
    "# If the name is \"Bond\" make it print \"Welcome on board 007.\"\n",
    "# Otherwise make it print \"Good morning NAME\". (Replace Name with user's name)\n",
    "\n",
    "# solution\n",
    "name = input(\"Please enter name: \")\n",
    "\n",
    "if name == \"Bond\":\n",
    "    \n",
    "    print(\"Welcome on board 007.\")\n",
    "else:\n",
    "    name = name.lower()\n",
    "    print(f\"Good morning {name}\")\n"
   ]
  },
  {
   "cell_type": "code",
   "execution_count": 92,
   "metadata": {},
   "outputs": [
    {
     "data": {
      "text/plain": [
       "False"
      ]
     },
     "execution_count": 92,
     "metadata": {},
     "output_type": "execute_result"
    }
   ],
   "source": [
    "# Ex6\n",
    "# Write a function named \"evens\" which returns True if a number is even and otherwise returns False.\n",
    "def evens(num):\n",
    "    num = input(\"please enter number: \")\n",
    "    num = int(num)\n",
    "    if num % 2 == 0:\n",
    "        return True\n",
    "    else:\n",
    "        return False\n",
    "\n",
    "# call evens function\n",
    "evens(num)\n"
   ]
  },
  {
   "cell_type": "code",
   "execution_count": null,
   "metadata": {},
   "outputs": [],
   "source": []
  }
 ],
 "metadata": {
  "interpreter": {
   "hash": "c82e7575f45f410b318c161d594c7bf0b9194a7d12f7b973fad112f7a3ca72b3"
  },
  "kernelspec": {
   "display_name": "Python 3.9.6 64-bit",
   "language": "python",
   "name": "python3"
  },
  "language_info": {
   "codemirror_mode": {
    "name": "ipython",
    "version": 3
   },
   "file_extension": ".py",
   "mimetype": "text/x-python",
   "name": "python",
   "nbconvert_exporter": "python",
   "pygments_lexer": "ipython3",
   "version": "3.9.6"
  },
  "orig_nbformat": 4
 },
 "nbformat": 4,
 "nbformat_minor": 2
}
