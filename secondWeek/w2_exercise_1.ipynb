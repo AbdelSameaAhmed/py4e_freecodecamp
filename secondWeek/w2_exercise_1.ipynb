{
 "cells": [
  {
   "cell_type": "markdown",
   "metadata": {},
   "source": [
    "***\n",
    "### Hostname and machien name using socket\n",
    "- socket.gethostname()\n",
    "- socket.gethostbyname(machien_name)\n",
    "***"
   ]
  },
  {
   "cell_type": "code",
   "execution_count": 10,
   "metadata": {},
   "outputs": [
    {
     "name": "stdout",
     "output_type": "stream",
     "text": [
      "the machien_name is: LAPTOP-SALES04\n",
      "****************************************\n",
      "the ip address is: 192.168.1.6\n"
     ]
    }
   ],
   "source": [
    "import socket\n",
    "# print machien_name\n",
    "print(f\"the machien_name is: {socket.gethostname()}\")\n",
    "print(\"*\"*40)\n",
    "# print ip\n",
    "print(f\"the ip address is: {socket.gethostbyname(machien_name)}\")\n"
   ]
  },
  {
   "cell_type": "markdown",
   "metadata": {},
   "source": [
    "***\n",
    "### holidays\n",
    "create program return the holidays after take input of year from user\n",
    "***"
   ]
  },
  {
   "cell_type": "code",
   "execution_count": 16,
   "metadata": {},
   "outputs": [
    {
     "name": "stdout",
     "output_type": "stream",
     "text": [
      "(datetime.date(2021, 1, 1), \"New Year's Day - Bank Holiday\")\n",
      "(datetime.date(2021, 1, 7), 'Coptic Christmas')\n",
      "(datetime.date(2021, 1, 25), 'Revolution Day - January 25')\n",
      "(datetime.date(2021, 5, 2), 'Coptic Easter Sunday')\n",
      "(datetime.date(2021, 5, 3), 'Sham El Nessim')\n",
      "(datetime.date(2021, 4, 25), 'Sinai Liberation Day')\n",
      "(datetime.date(2021, 5, 1), 'Labour Day')\n",
      "(datetime.date(2021, 10, 6), 'Armed Forces Day')\n",
      "(datetime.date(2021, 6, 30), '30 June Revolution Day')\n",
      "(datetime.date(2021, 7, 23), 'Revolution Day')\n",
      "(datetime.date(2021, 5, 13), 'Eid al-Fitr')\n",
      "(datetime.date(2021, 5, 14), 'Eid al-Fitr Holiday')\n",
      "(datetime.date(2021, 5, 15), 'Eid al-Fitr Holiday')\n",
      "(datetime.date(2021, 7, 19), 'Arafat Day')\n",
      "(datetime.date(2021, 7, 20), 'Eid al-Adha')\n",
      "(datetime.date(2021, 7, 21), 'Eid al-Adha Holiday')\n",
      "(datetime.date(2021, 7, 22), 'Eid al-Adha Holiday')\n",
      "(datetime.date(2021, 8, 9), 'Islamic New Year')\n",
      "(datetime.date(2021, 10, 18), \"Prophet Muhammad's Birthday\")\n"
     ]
    }
   ],
   "source": [
    "import holidays\n",
    "\n",
    "from datetime import datetime\n",
    "\n",
    "year =int(input(\"please enter year: \"))\n",
    "\n",
    "for day in holidays.Egypt(years=year).items():\n",
    "    print(day)\n"
   ]
  },
  {
   "cell_type": "code",
   "execution_count": null,
   "metadata": {},
   "outputs": [],
   "source": []
  }
 ],
 "metadata": {
  "interpreter": {
   "hash": "6f7c682b2ee505009ce227499eaf68ca456af523d9e14dc9333c3e0360cf81e6"
  },
  "kernelspec": {
   "display_name": "Python 3.9.6 64-bit (system)",
   "language": "python",
   "name": "python3"
  },
  "language_info": {
   "codemirror_mode": {
    "name": "ipython",
    "version": 3
   },
   "file_extension": ".py",
   "mimetype": "text/x-python",
   "name": "python",
   "nbconvert_exporter": "python",
   "pygments_lexer": "ipython3",
   "version": "3.9.6"
  },
  "orig_nbformat": 4
 },
 "nbformat": 4,
 "nbformat_minor": 2
}
