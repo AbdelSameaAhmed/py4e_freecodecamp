{
 "cells": [
  {
   "cell_type": "markdown",
   "metadata": {},
   "source": [
    "# Exercise\n",
    "***\n",
    "* Ex1:\n",
    "Write a Python program to find those numbers which are divisible by 7 \n",
    "and multiple of 5, between 1500 and 2700 (both included).\n",
    "***\n",
    "* Ex2:\n",
    "Write a Python program to guess a number between 1 to 9. \n",
    "Note : User is prompted to enter a guess. If the user guesses wrong then the prompt appears again until the guess is correct, on successful guess, user will get a \"Well guessed!\" message, and the program will exit.\n",
    "***\n",
    "* Ex3 \n",
    "extract the odd numbers and even numbers in a separate list \n",
    "solution:\n",
    "lst1 = [1,2,33, 44,55,66,29,20,110,11,21,400,13,21]\n",
    "***\n",
    "* Ex4\n",
    "extrct the words in below list that starts with a give them uppercase in new list\n",
    "['ASA', 'anchor', 'alline', 'sun', 'waffle', 'arrage']\n",
    "***\n",
    "* Ex5\n",
    "if a = 10 and b = 20 , swapping the values of these variables to be b = 10 and a =20"
   ]
  },
  {
   "cell_type": "code",
   "execution_count": 9,
   "metadata": {},
   "outputs": [
    {
     "name": "stdout",
     "output_type": "stream",
     "text": [
      "35\n"
     ]
    }
   ],
   "source": [
    "# Ex1:\n",
    "# Write a Python program to find those numbers which are divisible by 7 \n",
    "# and multiple of 5, between 1500 and 2700 (both included).\n",
    "# solution:\n",
    "x = range(1500, 2700)\n",
    "y = []\n",
    "for i in x: \n",
    "    if i%7 == 0 and i%5 == 0:\n",
    "        y.append(i)\n",
    "    else:\n",
    "        continue\n",
    "# print(y)\n",
    "print(len(y))\n"
   ]
  },
  {
   "cell_type": "code",
   "execution_count": 47,
   "metadata": {},
   "outputs": [
    {
     "name": "stdout",
     "output_type": "stream",
     "text": [
      "Too low!\n",
      "Too high!\n",
      "Too high!\n",
      "Too high!\n",
      "Too high!\n",
      "Well guessed!\n"
     ]
    }
   ],
   "source": [
    "#Ex 2\n",
    "#  Write a Python program to guess a number between 1 to 100.\n",
    "# Note: User is prompted to enter a guess. \n",
    "# If the user guesses wrong then the prompt appears \n",
    "# again until the guess is correct, on successful guess, u\n",
    "# ser will get a \"Well guessed!\" message, and the program will exit.\n",
    "# Solution:\n",
    "import random\n",
    "guess_num = random.randint(1,100)\n",
    "while True:\n",
    "    user_guess = int(input(\"Guess a number between 1 and 100: \"))\n",
    "    if user_guess == guess_num:\n",
    "        print(\"Well guessed!\")\n",
    "        break\n",
    "    elif user_guess > guess_num:\n",
    "        print(\"Too high!\")\n",
    "    else:\n",
    "        print(\"Too low!\")\n",
    "        \n",
    "# Write a Python program to count the number of even and odd numbers from a series of numbers.\n"
   ]
  },
  {
   "cell_type": "markdown",
   "metadata": {},
   "source": [
    "# Ex2 another solution "
   ]
  },
  {
   "cell_type": "code",
   "execution_count": 46,
   "metadata": {},
   "outputs": [
    {
     "name": "stdout",
     "output_type": "stream",
     "text": [
      "Too low!\n",
      "Too high!\n",
      "Too high!\n",
      "Too high!\n",
      "Too low!\n",
      "Too high!\n",
      "Well guessed!\n"
     ]
    }
   ],
   "source": [
    "# another solution \n",
    "import random\n",
    "guess_num = random.randint(1,100)\n",
    "count = 1\n",
    "while count < guess_num:\n",
    "    user_guess = int(input(\"Guess a number between 1 and 100: \"))\n",
    "    if user_guess == guess_num:\n",
    "        print(\"Well guessed!\")\n",
    "        break\n",
    "    elif user_guess > guess_num:\n",
    "        print(\"Too high!\")\n",
    "        count += 1\n",
    "    else:\n",
    "        print(\"Too low!\")\n",
    "        count += 1\n",
    "\n"
   ]
  },
  {
   "cell_type": "markdown",
   "metadata": {},
   "source": [
    "# Ex3 \n",
    "# extract the odd numbers and even numbers in a separate list \n",
    "# solution:\n",
    "\n",
    "lst1 = [1,2,33, 44,55,66,29,20,110,11,21,400,13,21]"
   ]
  },
  {
   "cell_type": "code",
   "execution_count": null,
   "metadata": {},
   "outputs": [],
   "source": [
    "# Ex3 \n",
    "# extract the odd numbers and even numbers in a separate list \n",
    "# solution:\n",
    "\n",
    "lst1 = [1,2,33, 44,55,66,29,20,110,11,21,400,13,21]\n",
    "\n",
    "even_Number = [x for x in lst1 if x%2==0]\n",
    "odd_number = [x for x in lst1 if x % 2 != 0]\n",
    "print(even_Number)\n",
    "print(odd_number)"
   ]
  },
  {
   "cell_type": "markdown",
   "metadata": {},
   "source": [
    "another solution for Ex3"
   ]
  },
  {
   "cell_type": "code",
   "execution_count": 9,
   "metadata": {},
   "outputs": [
    {
     "name": "stdout",
     "output_type": "stream",
     "text": [
      "the even number: [2, 44, 66, 20, 110, 400]\n",
      "the even number: [1, 33, 55, 29, 11, 21, 13, 21]\n"
     ]
    }
   ],
   "source": [
    "# another solution:\n",
    "ev_num=[]\n",
    "od_num=[]\n",
    "for x in lst1:\n",
    "    if x%2 == 0:\n",
    "        ev_num.append(x)\n",
    "    else:\n",
    "        od_num.append(x)\n",
    "print(f\"the even number: {ev_num}\")\n",
    "print(f\"the even number: {od_num}\")\n"
   ]
  },
  {
   "cell_type": "markdown",
   "metadata": {},
   "source": [
    "Ex4\n",
    "extrct the words in below list that starts with a give them uppercase in new list\n",
    "['ASA', 'anchor', 'alline', 'sun', 'waffle', 'arrage']\n"
   ]
  },
  {
   "cell_type": "code",
   "execution_count": 12,
   "metadata": {},
   "outputs": [
    {
     "name": "stdout",
     "output_type": "stream",
     "text": [
      "['ASA', 'ANCHOR', 'ALLINE', 'ARRAGE']\n",
      "****************************************\n",
      "another solution:\n",
      "['ASA', 'ANCHOR', 'ALLINE', 'ARRAGE']\n"
     ]
    }
   ],
   "source": [
    "# Ex4\n",
    "# extrct the words in below list that starts with a give them uppercase in new list\n",
    "# ['ASA', 'anchor', 'alline', 'sun', 'waffle', 'arrage']\n",
    "# Solution:\n",
    "lst2 = ['ASA', 'anchor', 'alline', 'sun', 'waffle', 'arrage']\n",
    "\n",
    "list_of_a = [x.upper() for x in lst2 if x.startswith('a') or x.startswith('A')]\n",
    "print(list_of_a)\n",
    "\n",
    "print(\"*\" * 40)\n",
    "\n",
    "print(\"another solution:\")\n",
    "new_listOf_a = []\n",
    "for i in lst2:\n",
    "    if i.startswith('a') or i.startswith('A'):\n",
    "        new_listOf_a.append(i.upper())\n",
    "print(new_listOf_a)\n",
    "\n",
    "    "
   ]
  },
  {
   "cell_type": "code",
   "execution_count": null,
   "metadata": {},
   "outputs": [],
   "source": [
    "# * Ex5\n",
    "# if a = 10 and b = 20, swapping the values of these variables to be b = 10 and a = 20\n",
    "# solution\n",
    "\n",
    "a = 10\n",
    "b = 20\n",
    "print(a)\n",
    "print(b)\n",
    "print(\"-\" * 20)\n",
    "# create new variable called tem and assign it to a\n",
    "tem = a\n",
    "# let a take the value of b\n",
    "a = b \n",
    "# now a is equal to 20\n",
    "\n",
    "# let b take the value of tem\n",
    "b= tem \n",
    "# now a is equal to 20\n",
    "print(a)\n",
    "print(b)\n",
    "# -------------------------------------------\n",
    "print(\"*\"* 40)\n",
    "print(\"Another Solution: \")\n",
    "\n",
    "a = 10\n",
    "b = 20 \n",
    "print(a)\n",
    "print(b)\n",
    "print(\"-\" * 20)\n",
    "# let a, b = b, a\n",
    "# then each of them have the value of other\n",
    "a, b = b, a\n",
    "\n",
    "print(a)\n",
    "print(b)\n"
   ]
  },
  {
   "cell_type": "code",
   "execution_count": 31,
   "metadata": {},
   "outputs": [
    {
     "name": "stdout",
     "output_type": "stream",
     "text": [
      "****************************************\n",
      "10\n",
      "20\n",
      "30\n",
      "40\n",
      "--------------------\n",
      "40\n",
      "30\n",
      "20\n",
      "10\n",
      "****************************************\n"
     ]
    }
   ],
   "source": [
    "print(\"*\"* 40)\n",
    "a = 10\n",
    "b = 20\n",
    "c = 30\n",
    "d = 40\n",
    "print(a)\n",
    "print(b)\n",
    "print(c)\n",
    "print(d)\n",
    "\n",
    "print(\"-\" * 20)\n",
    "\n",
    "a, b, c, d = d, c, b, a\n",
    "\n",
    "print(a)\n",
    "print(b)\n",
    "print(c)\n",
    "print(d)\n",
    "print(\"*\" * 40)\n"
   ]
  },
  {
   "cell_type": "code",
   "execution_count": 33,
   "metadata": {},
   "outputs": [
    {
     "name": "stdout",
     "output_type": "stream",
     "text": [
      "['asa', 'new', 'old', 'golf']\n"
     ]
    }
   ],
   "source": [
    "mylist = ['asa', 'new', 'old', 'golf']\n",
    "\n",
    "new_mylist = mylist\n",
    "print(new_mylist)\n",
    "# new2 = mylist()"
   ]
  },
  {
   "cell_type": "code",
   "execution_count": null,
   "metadata": {},
   "outputs": [],
   "source": []
  }
 ],
 "metadata": {
  "interpreter": {
   "hash": "c82e7575f45f410b318c161d594c7bf0b9194a7d12f7b973fad112f7a3ca72b3"
  },
  "kernelspec": {
   "display_name": "Python 3.9.6 64-bit",
   "language": "python",
   "name": "python3"
  },
  "language_info": {
   "codemirror_mode": {
    "name": "ipython",
    "version": 3
   },
   "file_extension": ".py",
   "mimetype": "text/x-python",
   "name": "python",
   "nbconvert_exporter": "python",
   "pygments_lexer": "ipython3",
   "version": "3.9.6"
  },
  "orig_nbformat": 4
 },
 "nbformat": 4,
 "nbformat_minor": 2
}
