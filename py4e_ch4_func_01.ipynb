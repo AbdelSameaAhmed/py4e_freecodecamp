{
 "cells": [
  {
   "cell_type": "markdown",
   "id": "fc3320d6-80df-4987-a758-9b1ab19a73ff",
   "metadata": {},
   "source": [
    "## Function\n"
   ]
  },
  {
   "cell_type": "markdown",
   "id": "c39a7201-d9e1-4705-b22e-474099afa93b",
   "metadata": {},
   "source": [
    "#### Create new function"
   ]
  },
  {
   "cell_type": "markdown",
   "id": "8c3de196-647e-46e2-9155-3576879ba1d5",
   "metadata": {},
   "source": [
    "#### Example\n",
    "write a function for the following excersis of payment<br>\n",
    "Exercise 1: \n",
    "Rewrite your pay computation to give the employee 1.5\n",
    "times the hourly rate for hours worked above 40 hours.\n"
   ]
  },
  {
   "cell_type": "code",
   "execution_count": null,
   "id": "0b906bc5-fee7-4f82-8dbe-048f79a2db28",
   "metadata": {},
   "outputs": [],
   "source": [
    "def payment(hours, rate):\n",
    "    try:\n",
    "        hours = float(hours)\n",
    "        rate = float(rate)\n",
    "    except :\n",
    "        print(\"Please enter valid value\")\n",
    "        quit()\n",
    "    if hours > 40:\n",
    "        pay = (40*rate) + (hours - 40) *(rate*1.5)\n",
    "        return pay\n",
    "    else:\n",
    "        pay = (rate * hours)\n",
    "        return pay\n",
    "    \n",
    "payment(45, 10)"
   ]
  },
  {
   "cell_type": "code",
   "execution_count": null,
   "id": "b33b8f0f-e921-472f-81ad-3787cc4ee6f7",
   "metadata": {},
   "outputs": [],
   "source": [
    "payment(30, 10)"
   ]
  },
  {
   "cell_type": "code",
   "execution_count": null,
   "id": "39b206ac-475c-4bd3-8e52-3acc571a99f7",
   "metadata": {},
   "outputs": [],
   "source": [
    "payment(41, rate)"
   ]
  },
  {
   "cell_type": "markdown",
   "id": "32a70cd9-c2c8-455f-af38-3e1bde6800bb",
   "metadata": {},
   "source": [
    "Another solution"
   ]
  },
  {
   "cell_type": "code",
   "execution_count": null,
   "id": "4f20cf5f-7d6e-4a40-85c0-d0ead418c8c9",
   "metadata": {},
   "outputs": [],
   "source": [
    "# hours = input(\"Please enter your working hours: \")\n",
    "# rate = input(\"Please enter your rate: \")\n",
    "\n",
    "def cmput_payment(hours=0, rate=0):\n",
    "    \n",
    "    hours = input(\"Please enter your working hours: \")\n",
    "    rate = input(\"Please enter your rate: \")\n",
    "    try:\n",
    "        hours = float(hours)\n",
    "        rate = float(rate)\n",
    "    except :\n",
    "        print(\"Please enter valid value\")\n",
    "        quit()\n",
    "    if hours > 40:\n",
    "        pay = (40*rate) + (hours - 40) *(rate*1.5)\n",
    "        return pay\n",
    "    else:\n",
    "        pay = (rate * hours)\n",
    "        return pay\n",
    "    \n",
    "\n",
    "    \n",
    "    "
   ]
  },
  {
   "cell_type": "code",
   "execution_count": null,
   "id": "ef536bd9-37cc-41a3-9373-ea48e2175326",
   "metadata": {},
   "outputs": [],
   "source": [
    "# we just calling the function \"cmput_payment()\" \n",
    "cmput_payment()"
   ]
  },
  {
   "cell_type": "code",
   "execution_count": null,
   "id": "a0d969db-d14a-4477-80c4-504fef93c5eb",
   "metadata": {},
   "outputs": [],
   "source": [
    "cmput_payment(45,10)"
   ]
  },
  {
   "cell_type": "code",
   "execution_count": null,
   "id": "a183f6ce-5191-4748-96ba-8276483d594c",
   "metadata": {},
   "outputs": [],
   "source": [
    "xp = cmput_payment()\n",
    "print(xp)"
   ]
  },
  {
   "cell_type": "markdown",
   "id": "31f96de4-8ad3-4f73-ac47-25048997fafb",
   "metadata": {},
   "source": [
    "### built in function"
   ]
  },
  {
   "cell_type": "code",
   "execution_count": null,
   "id": "9d1635a9-e7ac-463a-9a0a-f26c6cf2e6c9",
   "metadata": {},
   "outputs": [],
   "source": [
    "import random\n",
    "for i in range(10):\n",
    "    print(i**2)"
   ]
  },
  {
   "cell_type": "code",
   "execution_count": null,
   "id": "36871cf5-8966-4733-8b60-ee6d81a9a250",
   "metadata": {},
   "outputs": [],
   "source": [
    "import random\n",
    "for i in range(10):\n",
    "    x = random.random() \n",
    "    print(x)\n",
    "    \n",
    "   "
   ]
  },
  {
   "cell_type": "code",
   "execution_count": null,
   "id": "f6824d99-5a88-4cf6-bd47-15e8e97ca355",
   "metadata": {},
   "outputs": [],
   "source": [
    "print(random.randint(1,10))\n",
    "print(random.randint(1,10))"
   ]
  },
  {
   "cell_type": "code",
   "execution_count": null,
   "id": "06e0b7ae-b783-4d27-88b6-91b025dd9e1a",
   "metadata": {},
   "outputs": [],
   "source": [
    "# random.choice\n",
    "\n",
    "mylist = [1,2,3,4]\n",
    "print(random.choice(mylist))\n",
    "print(random.choice(mylist))"
   ]
  },
  {
   "cell_type": "code",
   "execution_count": null,
   "id": "2a362b90-6ccd-4ed8-9fcb-70f55e22edb5",
   "metadata": {},
   "outputs": [],
   "source": [
    "# create new function to welcome user after say his name\n",
    "def wlcoming_us(name=\"\"):\n",
    "    name = input(\"What is your name: \")\n",
    "    name = name.upper()\n",
    "    print(f\"Hello {name}, You are welcom..!\")\n",
    "# calling function\n",
    "wlcoming_us()"
   ]
  },
  {
   "cell_type": "code",
   "execution_count": null,
   "id": "ff835827-895e-476c-9579-3f3c89c7cf9a",
   "metadata": {},
   "outputs": [],
   "source": []
  },
  {
   "cell_type": "code",
   "execution_count": null,
   "id": "6a96ab7f-3515-4878-93b3-4feceb362eda",
   "metadata": {},
   "outputs": [],
   "source": [
    "wlcoming_us()"
   ]
  },
  {
   "cell_type": "code",
   "execution_count": null,
   "id": "10b502a2-4108-4ae7-ae95-e7d4a8a72873",
   "metadata": {},
   "outputs": [],
   "source": [
    "print(wlcoming_us())"
   ]
  },
  {
   "cell_type": "code",
   "execution_count": null,
   "id": "b53274cf-4232-4658-8b22-7e2d673e4cbc",
   "metadata": {},
   "outputs": [],
   "source": [
    "def repeat_wlcom(name=\"\"):\n",
    "    wlcoming_us()"
   ]
  },
  {
   "cell_type": "code",
   "execution_count": null,
   "id": "1830f33c-8d90-4fca-b28b-ce7e6d07399a",
   "metadata": {},
   "outputs": [],
   "source": [
    "repeat_wlcom()"
   ]
  },
  {
   "cell_type": "markdown",
   "id": "62dd7ffc-ef3b-4ac6-8f74-531fc7fe5f4d",
   "metadata": {},
   "source": [
    "#### Functions Examples"
   ]
  },
  {
   "cell_type": "code",
   "execution_count": null,
   "id": "0a15bd94-fa54-43a2-99f4-770d7171c231",
   "metadata": {},
   "outputs": [],
   "source": [
    "# program print  twice \n",
    "def repeatename(bruce):\n",
    "    print(bruce)\n",
    "    print(bruce)\n",
    "# call func\n",
    "repeatename(\"ASA\")"
   ]
  },
  {
   "cell_type": "code",
   "execution_count": null,
   "id": "1605e0af-efcf-4368-8e96-c5406edcf663",
   "metadata": {},
   "outputs": [],
   "source": [
    "repeatename(11)"
   ]
  },
  {
   "cell_type": "code",
   "execution_count": null,
   "id": "e0ac89e4-9bc1-43df-890a-58ae4ecc9665",
   "metadata": {},
   "outputs": [],
   "source": [
    "import math\n",
    "repeatename(math.pi)"
   ]
  },
  {
   "cell_type": "code",
   "execution_count": 124,
   "id": "1aab9970-a996-4e99-89cb-da76e2af8df4",
   "metadata": {},
   "outputs": [
    {
     "name": "stdout",
     "output_type": "stream",
     "text": [
      "ASA ASA ASA ASA ASA \n",
      "ASA ASA ASA ASA ASA \n"
     ]
    }
   ],
   "source": [
    "repeatename(\"ASA \"* 5)"
   ]
  },
  {
   "cell_type": "markdown",
   "id": "8d50fbd8-f07c-4746-9453-233dfa4da833",
   "metadata": {},
   "source": []
  },
  {
   "cell_type": "code",
   "execution_count": 125,
   "id": "79de3a66-4aaf-4c11-bc6a-af8aca939bca",
   "metadata": {},
   "outputs": [
    {
     "name": "stdout",
     "output_type": "stream",
     "text": [
      "ASA ASA ASA\n",
      "ASA ASA ASA\n"
     ]
    }
   ],
   "source": [
    "name = \"ASA ASA ASA\"\n",
    "repeatename(name)"
   ]
  },
  {
   "cell_type": "code",
   "execution_count": 126,
   "id": "87493044-78bb-4381-ba42-990d93227b73",
   "metadata": {},
   "outputs": [
    {
     "name": "stdout",
     "output_type": "stream",
     "text": [
      "asa\n",
      "asa\n"
     ]
    }
   ],
   "source": [
    "x = repeatename(\"asa\")"
   ]
  },
  {
   "cell_type": "code",
   "execution_count": 127,
   "id": "fe05d709-18e3-4c05-b2ac-d156f6767cea",
   "metadata": {},
   "outputs": [
    {
     "name": "stdout",
     "output_type": "stream",
     "text": [
      "None\n"
     ]
    }
   ],
   "source": [
    "print(x)"
   ]
  },
  {
   "cell_type": "code",
   "execution_count": 129,
   "id": "849eb29e-5029-4db6-bf84-c2f3655a1fa8",
   "metadata": {},
   "outputs": [
    {
     "data": {
      "text/plain": [
       "4"
      ]
     },
     "execution_count": 129,
     "metadata": {},
     "output_type": "execute_result"
    }
   ],
   "source": [
    "# to avoid None \n",
    "# use return in the function as follow\n",
    "# program add tow numbers\n",
    "\n",
    "def addnum(num1, num2):\n",
    "    result = num1 + num2\n",
    "    return result\n",
    "\n",
    "addnum(2,2)\n",
    "    "
   ]
  },
  {
   "cell_type": "code",
   "execution_count": 131,
   "id": "82295d66-f658-4b6a-bcfe-b386faade763",
   "metadata": {},
   "outputs": [
    {
     "name": "stdout",
     "output_type": "stream",
     "text": [
      "20\n"
     ]
    }
   ],
   "source": [
    "x = addnum(10,10)\n",
    "print(x)"
   ]
  },
  {
   "cell_type": "code",
   "execution_count": null,
   "id": "b67e81a0-e6f2-4ad5-8bbc-3893dddeea43",
   "metadata": {},
   "outputs": [],
   "source": []
  }
 ],
 "metadata": {
  "kernelspec": {
   "display_name": "Python 3 (ipykernel)",
   "language": "python",
   "name": "python3"
  },
  "language_info": {
   "codemirror_mode": {
    "name": "ipython",
    "version": 3
   },
   "file_extension": ".py",
   "mimetype": "text/x-python",
   "name": "python",
   "nbconvert_exporter": "python",
   "pygments_lexer": "ipython3",
   "version": "3.9.6"
  }
 },
 "nbformat": 4,
 "nbformat_minor": 5
}
