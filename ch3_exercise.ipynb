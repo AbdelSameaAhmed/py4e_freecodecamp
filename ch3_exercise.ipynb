{
 "cells": [
  {
   "cell_type": "markdown",
   "id": "9319887b-6ae3-4209-97de-ffb3bc129532",
   "metadata": {},
   "source": [
    "## Chapter 3 exercise<br>\n",
    "\n",
    "<ul>\n",
    "    <li> try except </li>\n",
    "    <li> input </li>\n",
    "    <li> if statement</li>\n",
    "</ul>\n"
   ]
  },
  {
   "cell_type": "code",
   "execution_count": 4,
   "id": "39bec74e-9d4a-4d49-9b39-d0d725b506a9",
   "metadata": {},
   "outputs": [
    {
     "name": "stdin",
     "output_type": "stream",
     "text": [
      "what is your family name ASA\n"
     ]
    },
    {
     "name": "stdout",
     "output_type": "stream",
     "text": [
      "The family name is ASA\n"
     ]
    }
   ],
   "source": [
    "prompt = \"what is your family name\"\n",
    "fname = input(prompt)\n",
    "print(f\"The family name is {fname}\")"
   ]
  },
  {
   "cell_type": "code",
   "execution_count": 8,
   "id": "b5d8e1e5-a1aa-4304-9aa5-5145b5895a23",
   "metadata": {},
   "outputs": [],
   "source": [
    "# int(fname)"
   ]
  },
  {
   "cell_type": "markdown",
   "id": "833f3e06-5b0c-4cad-a051-e517d51bda63",
   "metadata": {},
   "source": [
    "Exercise 3: Write a program to prompt for a score between 0.0 and\n",
    "1.0. If the score is out of range, print an error message. If the score is\n",
    "between 0.0 and 1.0, print a grade using the following table:\n",
    "    Score Grade\n",
    "<br>\n",
    ">= 0.9 A <br>\n",
    ">= 0.8 B <br>\n",
    ">= 0.7 C <br>\n",
    ">= 0.6 D <br>\n",
    "<  0.6 F <br>\n",
    "Enter score: 0.95<br>\n",
    "A<br>\n",
    "Enter score: perfect<br>\n",
    "Bad score<br>\n",
    "Enter score: 10.0<br>\n",
    "Bad score<br>\n",
    "Enter score: 0.75<br>\n",
    "C<br>\n",
    "Enter score: 0.5<br>\n",
    "F<br>\n",
    "Run the program repeatedly as shown above to test the various different values for<br>\n",
    "input.<br>"
   ]
  },
  {
   "cell_type": "markdown",
   "id": "db4cd719-a7ec-46ff-b4bd-24fde9326bb8",
   "metadata": {},
   "source": [
    "### SOLUTION \n",
    "using try except and nested if"
   ]
  },
  {
   "cell_type": "code",
   "execution_count": 7,
   "id": "54b9a145-c653-402b-afb0-c4b116db7c8d",
   "metadata": {},
   "outputs": [
    {
     "name": "stdin",
     "output_type": "stream",
     "text": [
      "please enter score:  0.77\n"
     ]
    },
    {
     "name": "stdout",
     "output_type": "stream",
     "text": [
      "C\n"
     ]
    }
   ],
   "source": [
    "score = input(\"please enter score: \")\n",
    "\n",
    "try:\n",
    "    score = float(score)\n",
    "    if score <= 1 :\n",
    "        if score >= 0.9:\n",
    "            print(\"A\")\n",
    "        elif score >= 0.8:\n",
    "            print(\"B\")\n",
    "        elif score >= 0.7:\n",
    "            print(\"C\")\n",
    "        elif score >= 0.6:\n",
    "            print(\"D\")\n",
    "        elif score < 0.6:\n",
    "            print(\"F\")\n",
    "    else:\n",
    "        print(\"please enter score between 0 and 1\")\n",
    "except:\n",
    "    print(\"Please enter valid score value\")\n"
   ]
  },
  {
   "cell_type": "code",
   "execution_count": 2,
   "id": "be43b118-eb41-4d36-b5ff-c8a1b2bfbf57",
   "metadata": {},
   "outputs": [
    {
     "name": "stdin",
     "output_type": "stream",
     "text": [
      "Please enter hours:  ten\n",
      "Please enter rate:  \n"
     ]
    },
    {
     "name": "stdout",
     "output_type": "stream",
     "text": [
      "invalid value, please enter numeric value\n",
      "your hours is ten, and your rate is \n"
     ]
    },
    {
     "ename": "TypeError",
     "evalue": "'>' not supported between instances of 'str' and 'int'",
     "output_type": "error",
     "traceback": [
      "\u001b[1;31m---------------------------------------------------------------------------\u001b[0m",
      "\u001b[1;31mTypeError\u001b[0m                                 Traceback (most recent call last)",
      "\u001b[1;32m~\\AppData\\Local\\Temp/ipykernel_11804/2997714786.py\u001b[0m in \u001b[0;36m<module>\u001b[1;34m\u001b[0m\n\u001b[0;32m      8\u001b[0m     \u001b[0mquit\u001b[0m\u001b[1;33m(\u001b[0m\u001b[1;33m)\u001b[0m\u001b[1;33m\u001b[0m\u001b[1;33m\u001b[0m\u001b[0m\n\u001b[0;32m      9\u001b[0m \u001b[0mprint\u001b[0m\u001b[1;33m(\u001b[0m\u001b[1;34mf\"your hours is {hr}, and your rate is {rate}\"\u001b[0m\u001b[1;33m)\u001b[0m\u001b[1;33m\u001b[0m\u001b[1;33m\u001b[0m\u001b[0m\n\u001b[1;32m---> 10\u001b[1;33m \u001b[1;32mif\u001b[0m \u001b[0mhr\u001b[0m \u001b[1;33m>\u001b[0m \u001b[1;36m40\u001b[0m \u001b[1;33m:\u001b[0m\u001b[1;33m\u001b[0m\u001b[1;33m\u001b[0m\u001b[0m\n\u001b[0m\u001b[0;32m     11\u001b[0m     \u001b[0mpay\u001b[0m \u001b[1;33m=\u001b[0m \u001b[1;33m(\u001b[0m\u001b[1;36m40\u001b[0m\u001b[1;33m*\u001b[0m\u001b[0mrate\u001b[0m\u001b[1;33m)\u001b[0m \u001b[1;33m+\u001b[0m \u001b[1;33m(\u001b[0m\u001b[0mhr\u001b[0m \u001b[1;33m-\u001b[0m \u001b[1;36m40\u001b[0m\u001b[1;33m)\u001b[0m\u001b[1;33m*\u001b[0m\u001b[1;33m(\u001b[0m\u001b[0mrate\u001b[0m\u001b[1;33m*\u001b[0m\u001b[1;36m1.5\u001b[0m\u001b[1;33m)\u001b[0m\u001b[1;33m\u001b[0m\u001b[1;33m\u001b[0m\u001b[0m\n\u001b[0;32m     12\u001b[0m     \u001b[0mprint\u001b[0m\u001b[1;33m(\u001b[0m\u001b[0mpay\u001b[0m\u001b[1;33m)\u001b[0m\u001b[1;33m\u001b[0m\u001b[1;33m\u001b[0m\u001b[0m\n",
      "\u001b[1;31mTypeError\u001b[0m: '>' not supported between instances of 'str' and 'int'"
     ]
    }
   ],
   "source": [
    "hr = input(\"Please enter hours: \")\n",
    "rate = input(\"Please enter rate: \")\n",
    "try:\n",
    "    hr = float(hr)\n",
    "    rate = float(rate)\n",
    "except ValueError :\n",
    "    print(\"invalid value, please enter numeric value\")\n",
    "    quit()\n",
    "print(f\"your hours is {hr}, and your rate is {rate}\")\n",
    "if hr > 40 :\n",
    "    pay = (40*rate) + (hr - 40)*(rate*1.5)\n",
    "    print(pay)\n",
    "else:\n",
    "    pay = hr * rate\n",
    "    print(pay)"
   ]
  },
  {
   "cell_type": "markdown",
   "id": "712d03cb-ffff-4c13-bace-c5a7c402af34",
   "metadata": {},
   "source": [
    "# example:\n",
    "temp = \"5 degrees\"\n",
    "cel = 0\n",
    "fahr = float(temp)\n",
    "cel = (fahr - 32.0) * 5.0 / 9.0\n",
    "print(cel)\n"
   ]
  },
  {
   "cell_type": "code",
   "execution_count": 4,
   "id": "256dbe52-4e53-4e3a-95e9-cec7bddefbf8",
   "metadata": {},
   "outputs": [
    {
     "name": "stdout",
     "output_type": "stream",
     "text": [
      "Error\n",
      "0\n"
     ]
    }
   ],
   "source": [
    "temp = \"5 degrees\"\n",
    "cel = 0\n",
    "try:\n",
    "    \n",
    "    fahr = float(temp)\n",
    "    cel = (fahr - 32.0) * 5.0 / 9.0\n",
    "except ValueError:\n",
    "    print(\"Error\")\n",
    "print(cel) \n"
   ]
  },
  {
   "cell_type": "code",
   "execution_count": null,
   "id": "7f73272b-38c0-4fea-8d9f-9cff6e9cec69",
   "metadata": {},
   "outputs": [],
   "source": []
  }
 ],
 "metadata": {
  "kernelspec": {
   "display_name": "Python 3 (ipykernel)",
   "language": "python",
   "name": "python3"
  },
  "language_info": {
   "codemirror_mode": {
    "name": "ipython",
    "version": 3
   },
   "file_extension": ".py",
   "mimetype": "text/x-python",
   "name": "python",
   "nbconvert_exporter": "python",
   "pygments_lexer": "ipython3",
   "version": "3.9.6"
  }
 },
 "nbformat": 4,
 "nbformat_minor": 5
}
