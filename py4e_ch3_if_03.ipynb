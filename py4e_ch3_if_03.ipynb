{
 "cells": [
  {
   "cell_type": "markdown",
   "id": "27344c24-b89f-4ffd-9180-2c5c6b596f4a",
   "metadata": {},
   "source": [
    "### Exercise 2: \n",
    "Rewrite your pay program using try and except so that your\n",
    "program handles non-numeric input gracefully by printing a message\n",
    "and exiting the program. The following shows two executions of the\n",
    "program:\n",
    "Enter Hours: 20\n",
    "Enter Rate: nine\n",
    "Error, please enter numeric input\n",
    "Enter Hours: forty\n",
    "Error, please enter numeric input\n"
   ]
  },
  {
   "cell_type": "code",
   "execution_count": 11,
   "id": "dff83b59-bd1b-43a3-9cc3-514582a762e2",
   "metadata": {},
   "outputs": [
    {
     "name": "stdin",
     "output_type": "stream",
     "text": [
      "please ente hours:  450\n",
      "please enter rate:  100\n"
     ]
    },
    {
     "name": "stdout",
     "output_type": "stream",
     "text": [
      "65500.0\n"
     ]
    }
   ],
   "source": [
    "# -----------------------------------------\n",
    "# -----code--------------------------------\n",
    "# -----------------------------------------\n",
    "#recieve input from user for his working hours and assiegn it to var called hours\n",
    "hours =input(\"please ente hours: \")\n",
    "#recieve input from user for his rate and assiegn it to var called rate\n",
    "rate = input(\"please enter rate: \")\n",
    "try:\n",
    "    # type(hours) == int \n",
    "    # type(rate) == int\n",
    "    # using try except\n",
    "    hours = int(hours)\n",
    "    rate = int(rate)\n",
    "    if hours <= 40 :\n",
    "        pay = int(rate) * int(hours)\n",
    "        print(pay)\n",
    "    elif hours > 40 and type(rate) == int:\n",
    "        pay = (40 * rate) + (hours - 40) * (rate * 1.5)\n",
    "        print(pay)\n",
    "except:\n",
    "    print(\"Please enter valid input\")\n",
    "\n"
   ]
  },
  {
   "cell_type": "code",
   "execution_count": null,
   "id": "6e27c770-f8a0-4834-9a57-9857945488e3",
   "metadata": {},
   "outputs": [],
   "source": []
  }
 ],
 "metadata": {
  "kernelspec": {
   "display_name": "Python 3 (ipykernel)",
   "language": "python",
   "name": "python3"
  },
  "language_info": {
   "codemirror_mode": {
    "name": "ipython",
    "version": 3
   },
   "file_extension": ".py",
   "mimetype": "text/x-python",
   "name": "python",
   "nbconvert_exporter": "python",
   "pygments_lexer": "ipython3",
   "version": "3.9.6"
  }
 },
 "nbformat": 4,
 "nbformat_minor": 5
}
