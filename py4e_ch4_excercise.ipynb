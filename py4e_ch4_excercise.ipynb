{
 "cells": [
  {
   "cell_type": "markdown",
   "id": "ddd24e8a-b543-47ce-83ec-e2cec75a3bf4",
   "metadata": {},
   "source": [
    "# Exercise \n"
   ]
  },
  {
   "cell_type": "markdown",
   "id": "f25fefda-3e56-4d5c-a1fd-1d8be6103923",
   "metadata": {},
   "source": [
    "4.14 Exercises\n",
    "Exercise 4: What is the purpose of the “def” keyword in Python?\n",
    "<ol>\n",
    "    <li> It is slang that means “the following code is really cool”</li>\n",
    "<li> It indicates the start of a function</li>\n",
    "<li> It indicates that the following indented section of code is to be stored for later</li>\n",
    "<li> 2 and 3 are both true</li>\n",
    "<li> None of the above</li>\n",
    "</ol>\n",
    "\n",
    "solution: <br>\n",
    "3\n"
   ]
  },
  {
   "cell_type": "markdown",
   "id": "79c3360e-098b-479a-83ae-e692df583345",
   "metadata": {},
   "source": [
    "Exercise 6: Rewrite your pay computation with time-and-a-half for over\u0002time and create a function called computepay which takes two parameters\n",
    "(hours and rate).<br>\n",
    "Enter Hours: 45<br>\n",
    "Enter Rate: 10<br>\n",
    "Pay: 475.0<br>"
   ]
  },
  {
   "cell_type": "code",
   "execution_count": null,
   "id": "d0a0f1b8-fc13-44b6-b23f-a3dd7ae1c0da",
   "metadata": {},
   "outputs": [],
   "source": [
    "Exercise 7: Rewrite the grade program from the previous chapter using\n",
    "a function called computegrade that takes a score as its parameter and\n",
    "returns a grade as a string.\n",
    "Score Grade\n",
    ">= 0.9 A\n",
    ">= 0.8 B\n",
    ">= 0.7 C\n",
    ">= 0.6 D\n",
    "< 0.6 F\n",
    "Enter score: 0.95\n",
    "A\n",
    "Enter score: perfect\n",
    "Bad score"
   ]
  }
 ],
 "metadata": {
  "kernelspec": {
   "display_name": "Python 3 (ipykernel)",
   "language": "python",
   "name": "python3"
  },
  "language_info": {
   "codemirror_mode": {
    "name": "ipython",
    "version": 3
   },
   "file_extension": ".py",
   "mimetype": "text/x-python",
   "name": "python",
   "nbconvert_exporter": "python",
   "pygments_lexer": "ipython3",
   "version": "3.9.6"
  }
 },
 "nbformat": 4,
 "nbformat_minor": 5
}
